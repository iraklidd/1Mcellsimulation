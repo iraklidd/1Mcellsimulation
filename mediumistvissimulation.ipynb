{
 "cells": [
  {
   "cell_type": "code",
   "execution_count": 76,
   "metadata": {},
   "outputs": [],
   "source": [
    "import pandas as pd\n",
    "import numpy as np\n",
    "import pymssql #pyodbc\n",
    "from openpyxl import Workbook\n",
    "from openpyxl import load_workbook\n",
    "\n",
    "# static parameters\n",
    "\n",
    "current_date = '20210331'\n",
    "path= 'simulation.xlsx'\n",
    "\n",
    "r = 500   # simulation row\n",
    "c = 2000  # simulation column\n",
    "\n",
    "k = 1.4 # coefficient [1:2]"
   ]
  },
  {
   "cell_type": "code",
   "execution_count": 77,
   "metadata": {},
   "outputs": [],
   "source": [
    "# generate two random rows\n",
    "\n",
    "A = np.random.randint(r*k, size=(2, c))"
   ]
  },
  {
   "cell_type": "code",
   "execution_count": 78,
   "metadata": {},
   "outputs": [],
   "source": [
    "# generate new simulation zero data matrix\n",
    "\n",
    "M = np.zeros([r-2, c])"
   ]
  },
  {
   "cell_type": "code",
   "execution_count": 79,
   "metadata": {},
   "outputs": [],
   "source": [
    "# merge A & M random matrices\n",
    "\n",
    "N = np.vstack((A, M))\n",
    "# M.shape"
   ]
  },
  {
   "cell_type": "code",
   "execution_count": 80,
   "metadata": {},
   "outputs": [],
   "source": [
    "# generate random numbers on each row\n",
    "\n",
    "for i in range(2, r):\n",
    "\n",
    "    a = np.minimum(N[i-2,:], N[i-1,:])\n",
    "    b = np.maximum(N[i-2,:], N[i-1,:])\n",
    "    \n",
    "    N[i,:] = np.random.randint(a-k*10, b+k*10)\n",
    "    "
   ]
  },
  {
   "cell_type": "code",
   "execution_count": 81,
   "metadata": {},
   "outputs": [],
   "source": [
    "# copy template file and append data into this file\n",
    "\n",
    "wb = load_workbook(path)\n",
    "ws = wb['template']\n",
    "\n",
    "ws[\"C7\"]  = r # Generated rows\n",
    "ws[\"C8\"]  = c # Generated columns\n",
    "ws[\"C9\"]  = np.min(N) # Min. value\n",
    "ws[\"C10\"] = np.max(N) # Max. value\n",
    "ws[\"C11\"] = np.mean(N) # Mean\n",
    "ws[\"C12\"] = np.std(N) # Std dev\n",
    "\n",
    "\n",
    "\n",
    "new_name = 'Simulation-'+current_date+'.xlsx'\n",
    "wb.save(new_name)\n",
    "wb.close()"
   ]
  },
  {
   "cell_type": "code",
   "execution_count": 82,
   "metadata": {},
   "outputs": [],
   "source": [
    "# append dataframe to excel\n",
    "\n",
    "writer = pd.ExcelWriter(new_name, engine = 'openpyxl')\n",
    "writer.book = load_workbook(new_name)\n",
    "\n",
    "writer.sheets = dict((ws.title, ws) for ws in writer.book.worksheets)\n",
    "\n",
    "pd.DataFrame(N).T.to_excel(writer, sheet_name='simulation data',\n",
    "             startrow=0, startcol=0, header=False, index=False)\n",
    "\n",
    "\n",
    "writer.save()\n",
    "writer.close()\n"
   ]
  }
 ],
 "metadata": {
  "kernelspec": {
   "display_name": "Python 3",
   "language": "python",
   "name": "python3"
  },
  "language_info": {
   "codemirror_mode": {
    "name": "ipython",
    "version": 3
   },
   "file_extension": ".py",
   "mimetype": "text/x-python",
   "name": "python",
   "nbconvert_exporter": "python",
   "pygments_lexer": "ipython3",
   "version": "3.8.3"
  }
 },
 "nbformat": 4,
 "nbformat_minor": 4
}
